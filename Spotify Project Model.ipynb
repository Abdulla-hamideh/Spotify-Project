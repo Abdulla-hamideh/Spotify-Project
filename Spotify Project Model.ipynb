{
 "cells": [
  {
   "cell_type": "markdown",
   "metadata": {},
   "source": [
    "Overview\n",
    "\n",
    "At the beginning of the project, we give a rough overview of the analysis and how the project is structured. \n",
    "This should make it easier for the reader to follow the code and understand our results.\n",
    "\n",
    "1. Editing the data set and feature engineering\n",
    "Before we start with the first task, we look at the object features. They cannot easily be used for the ML analysis, but they contain a lot of information, which makes them a valuable feature.\n",
    "In all data sets there were the following three object features: title, artist and genre. We tried to use them as explained in the following:\n",
    "       \n",
    "    a. top genre: In order to be able to better use the information provided by the genres, we grouped them into six clusters using k-means.\n",
    "\n",
    "    b. artist: To make better use of this variable, we added a dataset containing all Grammy award winners proxying for the popularity of the artist.    \n",
    "\n",
    "    c. title: Here we tried to evaluate the sentiment of titles using NLP analysis and let this be part of the analysis. Since these results were not significant, we decided to discard them.\n",
    "    \n",
    "\n",
    "2. Data exploration and identification of significant variables\n",
    "For this purpose, a correlation matrix of the features is used and the spread of the residuals is analysed \n",
    "and interpreted. We investigated feature importance using pca and random forrest.\n",
    "A detailed explaination of the varibale selection is given in the sections.\n",
    "\n",
    "3. Regression model\n",
    "Using the selected variables we tried different regression techniques trying to further improve them by using ensamble learning and hyperparameter tuning. We have found descission trees to be particularly effective and submitted the model to the kaggle challenge generating a score 7.31 (group-name: Help).\n",
    "\n",
    "4. Classification\n",
    "Since the data set of classification is the same as that of the regression problem, we simply used \n",
    "the already eddited data sets from above and adjusted it a bit, while using the new added features. \n",
    "The procedure for Classifying is basically the same as for Regression. \n",
    "Using the selected variables we tried different classification techniques trying to improve them by using ensamble learning and hyperparameter tuning. We have found random forest to be particularly effective and submitted the model to the kaggle challenge generating a score 0.32 (group-name: Help). \n",
    "In addition, an attempt is made to carry out a prediction with fewer outliers. Further, we duplicated outliers in the dataset for a better result. Both strategies did not improve the accuracy. "
   ]
  },
  {
   "cell_type": "code",
   "execution_count": 2,
   "metadata": {},
   "outputs": [
    {
     "name": "stdout",
     "output_type": "stream",
     "text": [
      "Requirement already satisfied: xgboost in c:\\users\\jom20\\anaconda3\\lib\\site-packages (1.3.3)\n",
      "Requirement already satisfied: numpy in c:\\users\\jom20\\anaconda3\\lib\\site-packages (from xgboost) (1.18.5)\n",
      "Requirement already satisfied: scipy in c:\\users\\jom20\\anaconda3\\lib\\site-packages (from xgboost) (1.5.0)\n",
      "Requirement already satisfied: textblob in c:\\users\\jom20\\anaconda3\\lib\\site-packages (0.15.3)\n",
      "Requirement already satisfied: nltk>=3.1 in c:\\users\\jom20\\anaconda3\\lib\\site-packages (from textblob) (3.5)\n",
      "Requirement already satisfied: regex in c:\\users\\jom20\\anaconda3\\lib\\site-packages (from nltk>=3.1->textblob) (2020.6.8)\n",
      "Requirement already satisfied: tqdm in c:\\users\\jom20\\anaconda3\\lib\\site-packages (from nltk>=3.1->textblob) (4.47.0)\n",
      "Requirement already satisfied: click in c:\\users\\jom20\\anaconda3\\lib\\site-packages (from nltk>=3.1->textblob) (7.1.2)\n",
      "Requirement already satisfied: joblib in c:\\users\\jom20\\anaconda3\\lib\\site-packages (from nltk>=3.1->textblob) (0.16.0)\n",
      "Requirement already satisfied: wordcloud in c:\\users\\jom20\\anaconda3\\lib\\site-packages (1.8.1)\n",
      "Requirement already satisfied: numpy>=1.6.1 in c:\\users\\jom20\\anaconda3\\lib\\site-packages (from wordcloud) (1.18.5)\n",
      "Requirement already satisfied: matplotlib in c:\\users\\jom20\\anaconda3\\lib\\site-packages (from wordcloud) (3.2.2)\n",
      "Requirement already satisfied: pillow in c:\\users\\jom20\\anaconda3\\lib\\site-packages (from wordcloud) (7.2.0)\n",
      "Requirement already satisfied: cycler>=0.10 in c:\\users\\jom20\\anaconda3\\lib\\site-packages (from matplotlib->wordcloud) (0.10.0)\n",
      "Requirement already satisfied: pyparsing!=2.0.4,!=2.1.2,!=2.1.6,>=2.0.1 in c:\\users\\jom20\\anaconda3\\lib\\site-packages (from matplotlib->wordcloud) (2.4.7)\n",
      "Requirement already satisfied: kiwisolver>=1.0.1 in c:\\users\\jom20\\anaconda3\\lib\\site-packages (from matplotlib->wordcloud) (1.2.0)\n",
      "Requirement already satisfied: python-dateutil>=2.1 in c:\\users\\jom20\\anaconda3\\lib\\site-packages (from matplotlib->wordcloud) (2.8.1)\n",
      "Requirement already satisfied: six in c:\\users\\jom20\\anaconda3\\lib\\site-packages (from cycler>=0.10->matplotlib->wordcloud) (1.15.0)\n"
     ]
    },
    {
     "name": "stderr",
     "output_type": "stream",
     "text": [
      "[nltk_data] Downloading package stopwords to\n",
      "[nltk_data]     C:\\Users\\jom20\\AppData\\Roaming\\nltk_data...\n",
      "[nltk_data]   Package stopwords is already up-to-date!\n"
     ]
    }
   ],
   "source": [
    "#standard libaries\n",
    "import numpy as np\n",
    "import pandas as pd\n",
    "import seaborn as sns\n",
    "%matplotlib inline\n",
    "import matplotlib.pyplot as plt    \n",
    "import json\n",
    "from numpy.random import seed\n",
    "from numpy.random import randn\n",
    "import random\n",
    "# Scipy helper functions\n",
    "from scipy.stats import percentileofscore\n",
    "from scipy import stats\n",
    "# Standard ML Models for comparison\n",
    "from sklearn.model_selection import train_test_split\n",
    "from sklearn.linear_model import LinearRegression\n",
    "from sklearn.linear_model import ElasticNet\n",
    "from sklearn.ensemble import RandomForestRegressor\n",
    "from sklearn.ensemble import ExtraTreesRegressor\n",
    "from sklearn.ensemble import GradientBoostingRegressor\n",
    "from sklearn.svm import SVR\n",
    "from sklearn.preprocessing import StandardScaler\n",
    "from sklearn.tree import DecisionTreeRegressor\n",
    "from sklearn.ensemble import VotingRegressor\n",
    "from sklearn.ensemble import AdaBoostRegressor\n",
    "from sklearn.cluster import KMeans\n",
    "!pip install xgboost\n",
    "from sklearn.model_selection import RandomizedSearchCV\n",
    "import xgboost as xgb\n",
    "from sklearn.decomposition import PCA\n",
    "from sklearn.multiclass import OneVsRestClassifier\n",
    "from sklearn.linear_model import LogisticRegression\n",
    "from sklearn.metrics import make_scorer, accuracy_score, roc_auc_score,recall_score,precision_score,f1_score\n",
    "from sklearn.ensemble import BaggingClassifier\n",
    "from sklearn.ensemble import RandomForestClassifier\n",
    "from sklearn.ensemble import VotingClassifier\n",
    "from sklearn.linear_model import LogisticRegression\n",
    "from sklearn.svm import SVC\n",
    "from sklearn.tree import DecisionTreeClassifier\n",
    "# Splitting data into training/testing\n",
    "from sklearn.model_selection import train_test_split\n",
    "from sklearn import metrics\n",
    "#Encoding\n",
    "from sklearn.preprocessing import LabelEncoder\n",
    "from sklearn.preprocessing import OneHotEncoder\n",
    "# Metrics & graphs\n",
    "from sklearn.metrics import mean_squared_error, mean_absolute_error, median_absolute_error\n",
    "from IPython.core.pylabtools import figsize\n",
    "# Distributions\n",
    "import scipy\n",
    "#NLP\n",
    "import nltk\n",
    "from nltk import word_tokenize, sent_tokenize\n",
    "from nltk.corpus import stopwords\n",
    "from nltk.stem import LancasterStemmer, WordNetLemmatizer, PorterStemmer\n",
    "!pip install textblob\n",
    "from textblob import TextBlob\n",
    "!pip install wordcloud\n",
    "from wordcloud import WordCloud, STOPWORDS\n",
    "import nltk\n",
    "nltk.download('stopwords')\n",
    "stop = stopwords.words('english')"
   ]
  },
  {
   "cell_type": "markdown",
   "metadata": {},
   "source": [
    "# Loading Data and preparing Dataset\n"
   ]
  },
  {
   "cell_type": "code",
   "execution_count": 3,
   "metadata": {},
   "outputs": [],
   "source": [
    "train = pd.read_csv(\"CS98XRegressionTrain.csv\")\n",
    "test = pd.read_csv(\"CS98XRegressionTest.csv\")\n",
    "\n",
    "#laoding grammy winner dataset - grammy award winners are assumed to be successfull and due to this popular among listerns on spotify\n",
    "#source: https://www.kaggle.com/unanimad/grammy-awards\n",
    "grammy = pd.read_csv(\"the_grammy_awards.csv\")\n",
    "\n",
    "#correct data\n",
    "train.iloc[17,2] = \"Celine Dion\"\n",
    "test.iloc[66,3]='pop'\n",
    "#combine train & test for clustering\n",
    "frames = [train, test]\n",
    "train_test = pd.concat(frames)\n",
    "train_test.dropna(subset=['top genre'], inplace=True)"
   ]
  },
  {
   "cell_type": "markdown",
   "metadata": {},
   "source": [
    "Looking at the data, we have three columns (artist, genre, title), which are objects. To get the most insights into this data, we use different strategies to convert these into numerical values so that our used ML algorithms can be trained on the largest set of features possible. We have tried to convert Genres in two ways. First, we have web scrapped data from https://www.musicgenreslist.com/, which let us build a dictionary of eight main genres containing around 600 subgenres. Main genres were further transferred into dummy variables. The drawback of this method was that the categorization was mostly subjective and led to lower performance. Therefore, we have used clustering (k-means) to mimic genres based on genre specfic features (bpm', 'nrgy','dnce', 'dB','live', 'val', 'dur', 'acous' ,'spch) of the songs and converted them to dummy variables. Titles have been transformed using NLP following the reasoning that more positive or negative song titles are associated with more intense feelings, which might be more memorizable and leads to higher popularity. Drawback of this method is that it tends to be a bit radom in this case, that is why we have not used it finally.\n",
    "Artists contain a lot of information in general as the likelihood of successful artists publishing new popular songs is higher than vice-versa. To proxy success, we have merged the given dataset with a database of grammy award winners from 1958-2019 (https://www.kaggle.com/unanimad/grammy-awards)."
   ]
  },
  {
   "cell_type": "markdown",
   "metadata": {},
   "source": [
    "## Clustering Data with unsupervised learning"
   ]
  },
  {
   "cell_type": "code",
   "execution_count": 4,
   "metadata": {
    "scrolled": true
   },
   "outputs": [
    {
     "data": {
      "image/png": "[encoded data removed]",
      "text/plain": [
       "<Figure size 432x288 with 1 Axes>"
      ]
     },
     "metadata": {
      "needs_background": "light"
     },
     "output_type": "display_data"
    }
   ],
   "source": [
    "#cluster k-means\n",
    "ks = range(1, 15)\n",
    "inertias = []\n",
    "train_test_clustering = train_test[['bpm', 'nrgy','dnce', 'dB','live', 'val', 'dur', 'acous' ,'spch']]\n",
    "train_test_clustering = train_test_clustering.values\n",
    "std_scaler = StandardScaler()\n",
    "scaled_cluster = std_scaler.fit_transform(train_test_clustering)\n",
    "for k in ks:\n",
    "    # Create a KMeans instance with k clusters: model\n",
    "    model = KMeans(n_clusters=k)\n",
    "    # Fit model to samples\n",
    "    model.fit(scaled_cluster)\n",
    "    # Append the inertia to the list of inertias\n",
    "    inertias.append(model.inertia_)   \n",
    "# Plot ks vs inertias\n",
    "plt.plot(ks, inertias, '-o')\n",
    "plt.xlabel('number of clusters, k')\n",
    "plt.ylabel('inertia')\n",
    "plt.xticks(ks)\n",
    "plt.show()"
   ]
  },
  {
   "cell_type": "code",
   "execution_count": 5,
   "metadata": {},
   "outputs": [],
   "source": [
    "#6 Clusters according to graph above using k-Means\n",
    "model = KMeans(n_clusters=6)\n",
    "labels = model.fit_predict(scaled_cluster)\n",
    "train_test['labels'] = labels #labelling the data\n",
    "train_test['labels']= train_test['labels'].map({0:'cluster0', 1:'cluster1', 2:'cluster2', 3:'cluster3', 4:'cluster4', 5:'cluster5'})"
   ]
  },
  {
   "cell_type": "markdown",
   "metadata": {},
   "source": [
    "## Adding Grammy information"
   ]
  },
  {
   "cell_type": "code",
   "execution_count": 6,
   "metadata": {},
   "outputs": [],
   "source": [
    "#Adding success column for grammy winners\n",
    "grammy[\"artist\"].dropna()\n",
    "winners = grammy[\"artist\"].unique()\n",
    "winners = list(winners)\n",
    "winners.append(\"TOTO\")\n",
    "winners.append(\"Queen\")\n",
    "winners.append(\"Bryan Adams\")\n",
    "winners.append(\"Bon Jovi\")\n",
    "winners.append(\"50 Cent\")\n",
    "winners.append(\"John Lennon\")\n",
    "conditions = [\n",
    "    train_test['artist'].isin(winners)]\n",
    "choices = [1]\n",
    "train_test['success'] = np.select(conditions, choices, default= 0)"
   ]
  },
  {
   "cell_type": "markdown",
   "metadata": {},
   "source": [
    "## Creating the original train and test Datasets"
   ]
  },
  {
   "cell_type": "code",
   "execution_count": 7,
   "metadata": {},
   "outputs": [],
   "source": [
    "train_test = train_test.drop(['title', 'top genre', 'artist'] ,axis=1)\n",
    "train_test = pd.get_dummies(train_test)\n",
    "train_test = train_test.drop(['labels_cluster5' ], axis=1)\n",
    "#splitting into train and test data\n",
    "train_start = pd.DataFrame(train_test[:438])\n",
    "test_start = pd.DataFrame(train_test[438:])"
   ]
  },
  {
   "cell_type": "markdown",
   "metadata": {},
   "source": [
    "# Exploring Data"
   ]
  },
  {
   "cell_type": "code",
   "execution_count": 203,
   "metadata": {},
   "outputs": [
    {
     "data": {
      "image/png": "[encoded data removed]",
      "text/plain": [
       "<Figure size 864x720 with 12 Axes>"
      ]
     },
     "metadata": {
      "needs_background": "light"
     },
     "output_type": "display_data"
    }
   ],
   "source": [
    "train.hist(bins=50, figsize=(12,10))\n",
    "plt.show()"
   ]
  },
  {
   "cell_type": "code",
   "execution_count": 8,
   "metadata": {},
   "outputs": [
    {
     "data": {
      "image/png": "[encoded data removed]",
      "text/plain": [
       "<Figure size 720x360 with 2 Axes>"
      ]
     },
     "metadata": {
      "needs_background": "light"
     },
     "output_type": "display_data"
    }
   ],
   "source": [
    "corr = train.corr()\n",
    "plt.subplots(figsize=(10,5))\n",
    "sns.heatmap(corr, cmap=sns.diverging_palette(20, 220, n=200))\n",
    "plt.title('Correlation of Features')\n",
    "plt.show()"
   ]
  },
  {
   "cell_type": "markdown",
   "metadata": {},
   "source": [
    "# Regression"
   ]
  },
  {
   "cell_type": "markdown",
   "metadata": {},
   "source": [
    "## Data Exploration for Regression"
   ]
  },
  {
   "cell_type": "markdown",
   "metadata": {},
   "source": [
    "success is a good new feature as it has a low correlation with the other features and therefore brings further information (cor. to pop 0.3-0.4). \n",
    "In general, it is complicated to spot valuable relationships using scatterplots and analysing the correlation to leverage on in this dataset given the many outliers. \n",
    "\n",
    "Moreover, we could not spot any shapes that would have been benefitted from transformations (e.g. squaring). \n",
    "\n",
    "Variable nrgy and dB seemed to be higher correlated given the heatmap, and regarding the scatterplot, it is clear that both follow a linear trend. Based on this, we have combined them into one variable, performing poor on the training set later on for the regression and classification part. \n",
    "\n",
    "nrgy has a considerably negative corelation with pop (~ -0.6), nevertheless looking at the scatterplot, there was no clear relationship to spot. \n",
    "\n",
    "Bpm was dropped as the correlation of the variable with pop is close to zero (for regression). Further, the scatterplot has not shown any significant relationship, which might be detected by the ML algorithms used. \n",
    "\n",
    "acous and nrgy have a high negative corr; we could not detect any meaningful relationship in the scatterplot. \n",
    "\n",
    "The declarative value of the variable spch is very low, as most of the values are between 3 and 5 and evenly distributed among popularity. Therefore, ML cannot detect any characteristics. live follow a similar pattern. \n",
    "\n",
    "dur follows a slight u-shaped pattern plotted against pop. dur is most popular between 200-300. We have tried to transform it while squaring it, which was not performing well in our ML algorithms. Next, we have converted it into a dummy-variable, which takes into consderation the preferable length of the song (1) vs length before and after that (0). This was not performing well and, therefore, not considered. "
   ]
  },
  {
   "cell_type": "code",
   "execution_count": 9,
   "metadata": {},
   "outputs": [
    {
     "data": {
      "image/png": "[encoded data removed]",
      "text/plain": [
       "<Figure size 1440x720 with 4 Axes>"
      ]
     },
     "metadata": {
      "needs_background": "light"
     },
     "output_type": "display_data"
    }
   ],
   "source": [
    "fig, ax = plt.subplots(2, 2, figsize=(20, 10))\n",
    "fig.suptitle('Spotted relationships in the data', size=20)\n",
    "ax[0,0].scatter(x=\"dur\", y=\"pop\", data=train_start)\n",
    "ax[0,1].scatter(x=\"spch\", y=\"pop\", data=train_start)\n",
    "ax[1,0].scatter(x=\"bpm\", y=\"pop\", data=train_start)\n",
    "ax[1,1].scatter(x=\"nrgy\", y=\"dB\", data=train_start)\n",
    "ax[0,0].set_title(\"Dur vs. Pop\", size=20)\n",
    "ax[0,1].set_title(\"Spch vs. Pop\", size=20)\n",
    "ax[1,0].set_title(\"Bpm vs. Pop\", size=20)\n",
    "ax[1,1].set_title(\"Nrgy vs. DB\", size=20)\n",
    "plt.show()"
   ]
  },
  {
   "cell_type": "markdown",
   "metadata": {},
   "source": [
    "## Feature importance"
   ]
  },
  {
   "cell_type": "markdown",
   "metadata": {},
   "source": [
    "To choose between the given features, we generate the feature importance using Pca and random forest. The models are used on the given training data, which is further split into train/test data and scaled (scaling tend to improve the models).\n",
    "Based on our feature importance and the model performance, we have taken out variable dur. Further, we have a first glance at our feature selection's performance using linear regression evaluating it with RMSE."
   ]
  },
  {
   "cell_type": "code",
   "execution_count": 10,
   "metadata": {
    "scrolled": true
   },
   "outputs": [
    {
     "name": "stdout",
     "output_type": "stream",
     "text": [
      "Root Mean Squared Error: 9.038745385503956\n"
     ]
    }
   ],
   "source": [
    "#preparing test-train split\n",
    "random.seed(72)\n",
    "#scaling\n",
    "y = train_start['pop'].values\n",
    "std_scaler = StandardScaler()\n",
    "X_cluster = train_start.drop(['pop', 'Id','bpm','live','dur','spch'], axis=1).values\n",
    "X_scaled_cluster = std_scaler.fit_transform(X_cluster)\n",
    "X_train_cluster, X_test_cluster, y_train_cluster, y_test_cluster = train_test_split(X_scaled_cluster, y, test_size=0.2, random_state=42)\n",
    "\n",
    "X_clean = train_start.drop(['pop', 'Id','bpm','spch','labels_cluster0','labels_cluster1','labels_cluster2','labels_cluster3','labels_cluster4'], axis=1).values\n",
    "X_scaled_clean = std_scaler.fit_transform(X_clean)\n",
    "X_train_clean, X_test_clean, y_train_clean, y_test_clean = train_test_split(X_scaled_clean, y, test_size=0.2, random_state=42)\n",
    "\n",
    "#test dataset\n",
    "X_cluster_test = test_start.drop(['pop','Id','bpm','live','dur','spch'], axis=1).values\n",
    "X_scaled_cluster_test = std_scaler.fit_transform(X_cluster_test)\n",
    "\n",
    "X_clean_test = test_start.drop(['pop','Id','bpm','spch','labels_cluster0','labels_cluster1','labels_cluster2','labels_cluster3','labels_cluster4'], axis=1).values\n",
    "X_scaled_clean_test = std_scaler.fit_transform(X_clean_test)\n",
    "\n",
    "Regres = LinearRegression()\n",
    "Regres.fit(X_train_cluster,y_train_cluster)\n",
    "y_predict = Regres.predict(X_test_cluster)\n",
    "#initial train test split of linear regression only looking at the \n",
    "#yields an RMSE score of 10.36. this does not consider the actual test dataset as provided\n",
    "print('Root Mean Squared Error:', np.sqrt(metrics.mean_squared_error(y_test_cluster, y_predict)))"
   ]
  },
  {
   "cell_type": "code",
   "execution_count": 11,
   "metadata": {},
   "outputs": [
    {
     "name": "stdout",
     "output_type": "stream",
     "text": [
      "year 0.15558993543360913\n",
      "nrgy 0.15315064274066587\n",
      "dnce 0.14959569515053958\n",
      "dB 0.11444599142585095\n",
      "val 0.1555416251623187\n",
      "acous 0.1555893077226977\n",
      "success 0.03577858399716244\n",
      "labels_cluster0 0.021835050829115826\n",
      "labels_cluster1 0.011156868852838338\n",
      "labels_cluster2 0.022101970685331453\n",
      "labels_cluster3 0.01800099169606018\n",
      "labels_cluster4 0.00721333630380997\n"
     ]
    }
   ],
   "source": [
    "#Checking the feature importance of different combinations of variables using random forest\n",
    "#example: Final model feature importance after reducing it with uncessary variables\n",
    "\n",
    "from sklearn.ensemble import RandomForestClassifier\n",
    "rnd_clf = RandomForestClassifier(n_estimators=500, \n",
    "                      max_leaf_nodes=50, n_jobs=-1)\n",
    "\n",
    "rnd_clf.fit(X_train_cluster, y_train_cluster)\n",
    "y_pred_rf = rnd_clf.predict(X_test_cluster)\n",
    "for name, score in zip(train_start.drop(['pop', 'Id','bpm','live','dur','spch'], axis=1).keys(), rnd_clf.feature_importances_):\n",
    "    print(name, score)"
   ]
  },
  {
   "cell_type": "code",
   "execution_count": 12,
   "metadata": {},
   "outputs": [
    {
     "name": "stdout",
     "output_type": "stream",
     "text": [
      "year 0.30008717659791573\n",
      "nrgy 0.1365338588631166\n",
      "dnce 0.1107642165895167\n",
      "dB 0.09530507319344354\n",
      "val 0.08814227773193394\n",
      "acous 0.07781293887211051\n",
      "success 0.06409900082796484\n",
      "labels_cluster0 0.04352978226559001\n",
      "labels_cluster1 0.033755378380549664\n",
      "labels_cluster2 0.01948010322898833\n",
      "labels_cluster3 0.017766153728006242\n",
      "labels_cluster4 0.012724039720863887\n"
     ]
    }
   ],
   "source": [
    "#Checking the feature importance of different combinations of variables using PCA\n",
    "#example: Final model feature importance after reducing it with uncessary variables\n",
    "pca = PCA()\n",
    "pca.fit(X_train_cluster)\n",
    "for name, score in zip(train_start.drop(['pop', 'Id','bpm','live','dur','spch'], axis=1).keys(), pca.explained_variance_ratio_):\n",
    "    print(name, score)"
   ]
  },
  {
   "cell_type": "markdown",
   "metadata": {},
   "source": [
    "Both feature selection tend to perform similar, normally we should perfer the model with less features according to Okams'\n",
    "razor. Further, the variable importance of the cluster dummy varibales are also considerably low given the following\n",
    "feature importance analysis. However, we continue with both options."
   ]
  },
  {
   "cell_type": "markdown",
   "metadata": {},
   "source": [
    "## Evaluate the final Regression models\n"
   ]
  },
  {
   "cell_type": "markdown",
   "metadata": {},
   "source": [
    "We have built a function to evaluate several ML models by training on the splitted training data. \n",
    "\n",
    "Therefore, the function loops over several ML methods beeing: Linear Regression, ElasticNet Regression, Random Forest, Extra Trees, SVM, Decisiontree, Boosting (AdaBoost, GradientBoost, XGBRegressor), Voting Regressor."
   ]
  },
  {
   "cell_type": "code",
   "execution_count": 13,
   "metadata": {},
   "outputs": [],
   "source": [
    "#Building a function to evaluate several ML models by training on the splitted training data \n",
    "def evaluate(X_train_cluster, X_test_cluster, y_train_cluster, y_test_cluster):\n",
    "    # Names of models\n",
    "    model_name_list = ['Linear Regression', 'ElasticNet Regression',\n",
    "                      'Random Forest', 'Extra Trees', 'SVM',\n",
    "                       'Gradient Boosted', 'Decisiontree' ,'AdaBoost','XGBRegressor','Voting Regressor','Baseline']\n",
    "    # Instantiate the models\n",
    "    model1 = LinearRegression()\n",
    "    model2 = ElasticNet(alpha=1.0, l1_ratio=0.5)\n",
    "    model3 = RandomForestRegressor(n_estimators=1000)\n",
    "    model4 = ExtraTreesRegressor(n_estimators=1000)\n",
    "    model5 = SVR(kernel='rbf', degree=3, C=1.0, gamma='auto')\n",
    "    model6 = GradientBoostingRegressor(n_estimators=20)\n",
    "    model7 = DecisionTreeRegressor(random_state=0)\n",
    "    model8 = AdaBoostRegressor(random_state=0, n_estimators=100)\n",
    "    model10 = xgb.XGBRegressor(objective='reg:linear',n_estimators=10, seed=123)\n",
    "    model11 = VotingRegressor([('Linear Regression', model1), ('ElasticNet Regression', model2), ('Random Forest', model3), ('SVM', model5), ('Gradient Boosted' ,model6)])    \n",
    "    # Dataframe for results\n",
    "    results = pd.DataFrame(columns=['mae', 'rmse'], index = model_name_list)   \n",
    "    # Train and predict with each model\n",
    "    for i, model in enumerate([model1, model2, model3, model4, model5, model6, model7,model8,model10,model11]):\n",
    "        model.fit(X_train_cluster, y_train_cluster)\n",
    "        predictions = model.predict(X_test_cluster)      \n",
    "        # Metrics\n",
    "        mae = np.mean(abs(predictions - y_test_cluster))\n",
    "        rmse = np.sqrt(np.mean((predictions - y_test_cluster) ** 2))      \n",
    "        # Insert results into the dataframe\n",
    "        model_name = model_name_list[i]\n",
    "        results.loc[model_name, :] = [mae, rmse]  \n",
    "    # Median Value Baseline Metrics\n",
    "    baseline = np.median(y_train_cluster)\n",
    "    baseline_mae = np.mean(abs(baseline - y_test_cluster))\n",
    "    baseline_rmse = np.sqrt(np.mean((baseline - y_test_cluster) ** 2))\n",
    "    \n",
    "    results.loc['Baseline', :] = [baseline_mae, baseline_rmse]\n",
    "    \n",
    "    return results"
   ]
  },
  {
   "cell_type": "code",
   "execution_count": 14,
   "metadata": {},
   "outputs": [
    {
     "name": "stdout",
     "output_type": "stream",
     "text": [
      "[23:45:52] WARNING: C:/Users/Administrator/workspace/xgboost-win64_release_1.3.0/src/objective/regression_obj.cu:170: reg:linear is now deprecated in favor of reg:squarederror.\n"
     ]
    },
    {
     "data": {
      "text/html": [
       "<div>\n",
       "<style scoped>\n",
       "    .dataframe tbody tr th:only-of-type {\n",
       "        vertical-align: middle;\n",
       "    }\n",
       "\n",
       "    .dataframe tbody tr th {\n",
       "        vertical-align: top;\n",
       "    }\n",
       "\n",
       "    .dataframe thead th {\n",
       "        text-align: right;\n",
       "    }\n",
       "</style>\n",
       "<table border=\"1\" class=\"dataframe\">\n",
       "  <thead>\n",
       "    <tr style=\"text-align: right;\">\n",
       "      <th></th>\n",
       "      <th>mae</th>\n",
       "      <th>rmse</th>\n",
       "    </tr>\n",
       "  </thead>\n",
       "  <tbody>\n",
       "    <tr>\n",
       "      <th>Linear Regression</th>\n",
       "      <td>7.26236</td>\n",
       "      <td>9.03875</td>\n",
       "    </tr>\n",
       "    <tr>\n",
       "      <th>ElasticNet Regression</th>\n",
       "      <td>8.0437</td>\n",
       "      <td>9.63849</td>\n",
       "    </tr>\n",
       "    <tr>\n",
       "      <th>Random Forest</th>\n",
       "      <td>6.5533</td>\n",
       "      <td>8.32023</td>\n",
       "    </tr>\n",
       "    <tr>\n",
       "      <th>Extra Trees</th>\n",
       "      <td>6.48451</td>\n",
       "      <td>8.27141</td>\n",
       "    </tr>\n",
       "    <tr>\n",
       "      <th>SVM</th>\n",
       "      <td>7.87074</td>\n",
       "      <td>9.82346</td>\n",
       "    </tr>\n",
       "    <tr>\n",
       "      <th>Gradient Boosted</th>\n",
       "      <td>6.97792</td>\n",
       "      <td>8.79795</td>\n",
       "    </tr>\n",
       "    <tr>\n",
       "      <th>Decisiontree</th>\n",
       "      <td>10.1705</td>\n",
       "      <td>12.94</td>\n",
       "    </tr>\n",
       "    <tr>\n",
       "      <th>AdaBoost</th>\n",
       "      <td>7.31437</td>\n",
       "      <td>8.91261</td>\n",
       "    </tr>\n",
       "    <tr>\n",
       "      <th>XGBRegressor</th>\n",
       "      <td>8.13816</td>\n",
       "      <td>10.0245</td>\n",
       "    </tr>\n",
       "    <tr>\n",
       "      <th>Voting Regressor</th>\n",
       "      <td>7.09069</td>\n",
       "      <td>8.74532</td>\n",
       "    </tr>\n",
       "    <tr>\n",
       "      <th>Baseline</th>\n",
       "      <td>9.89773</td>\n",
       "      <td>12.1828</td>\n",
       "    </tr>\n",
       "  </tbody>\n",
       "</table>\n",
       "</div>"
      ],
      "text/plain": [
       "                           mae     rmse\n",
       "Linear Regression      7.26236  9.03875\n",
       "ElasticNet Regression   8.0437  9.63849\n",
       "Random Forest           6.5533  8.32023\n",
       "Extra Trees            6.48451  8.27141\n",
       "SVM                    7.87074  9.82346\n",
       "Gradient Boosted       6.97792  8.79795\n",
       "Decisiontree           10.1705    12.94\n",
       "AdaBoost               7.31437  8.91261\n",
       "XGBRegressor           8.13816  10.0245\n",
       "Voting Regressor       7.09069  8.74532\n",
       "Baseline               9.89773  12.1828"
      ]
     },
     "execution_count": 14,
     "metadata": {},
     "output_type": "execute_result"
    }
   ],
   "source": [
    "results_withcluster = evaluate(X_train_cluster, X_test_cluster, y_train_cluster, y_test_cluster)\n",
    "results_withcluster\n",
    "#Random Forest performs best on the training set test part given the used feature selection with RMSE around 8.2"
   ]
  },
  {
   "cell_type": "code",
   "execution_count": 15,
   "metadata": {},
   "outputs": [
    {
     "name": "stdout",
     "output_type": "stream",
     "text": [
      "[23:46:18] WARNING: C:/Users/Administrator/workspace/xgboost-win64_release_1.3.0/src/objective/regression_obj.cu:170: reg:linear is now deprecated in favor of reg:squarederror.\n"
     ]
    },
    {
     "data": {
      "text/html": [
       "<div>\n",
       "<style scoped>\n",
       "    .dataframe tbody tr th:only-of-type {\n",
       "        vertical-align: middle;\n",
       "    }\n",
       "\n",
       "    .dataframe tbody tr th {\n",
       "        vertical-align: top;\n",
       "    }\n",
       "\n",
       "    .dataframe thead th {\n",
       "        text-align: right;\n",
       "    }\n",
       "</style>\n",
       "<table border=\"1\" class=\"dataframe\">\n",
       "  <thead>\n",
       "    <tr style=\"text-align: right;\">\n",
       "      <th></th>\n",
       "      <th>mae</th>\n",
       "      <th>rmse</th>\n",
       "    </tr>\n",
       "  </thead>\n",
       "  <tbody>\n",
       "    <tr>\n",
       "      <th>Linear Regression</th>\n",
       "      <td>7.32489</td>\n",
       "      <td>9.04528</td>\n",
       "    </tr>\n",
       "    <tr>\n",
       "      <th>ElasticNet Regression</th>\n",
       "      <td>8.13203</td>\n",
       "      <td>9.71652</td>\n",
       "    </tr>\n",
       "    <tr>\n",
       "      <th>Random Forest</th>\n",
       "      <td>6.57991</td>\n",
       "      <td>8.57934</td>\n",
       "    </tr>\n",
       "    <tr>\n",
       "      <th>Extra Trees</th>\n",
       "      <td>6.44475</td>\n",
       "      <td>8.05989</td>\n",
       "    </tr>\n",
       "    <tr>\n",
       "      <th>SVM</th>\n",
       "      <td>7.67696</td>\n",
       "      <td>9.57551</td>\n",
       "    </tr>\n",
       "    <tr>\n",
       "      <th>Gradient Boosted</th>\n",
       "      <td>6.84049</td>\n",
       "      <td>8.79013</td>\n",
       "    </tr>\n",
       "    <tr>\n",
       "      <th>Decisiontree</th>\n",
       "      <td>9.625</td>\n",
       "      <td>12.5268</td>\n",
       "    </tr>\n",
       "    <tr>\n",
       "      <th>AdaBoost</th>\n",
       "      <td>7.35795</td>\n",
       "      <td>9.31337</td>\n",
       "    </tr>\n",
       "    <tr>\n",
       "      <th>XGBRegressor</th>\n",
       "      <td>6.98383</td>\n",
       "      <td>8.87204</td>\n",
       "    </tr>\n",
       "    <tr>\n",
       "      <th>Voting Regressor</th>\n",
       "      <td>7.13559</td>\n",
       "      <td>8.8141</td>\n",
       "    </tr>\n",
       "    <tr>\n",
       "      <th>Baseline</th>\n",
       "      <td>9.89773</td>\n",
       "      <td>12.1828</td>\n",
       "    </tr>\n",
       "  </tbody>\n",
       "</table>\n",
       "</div>"
      ],
      "text/plain": [
       "                           mae     rmse\n",
       "Linear Regression      7.32489  9.04528\n",
       "ElasticNet Regression  8.13203  9.71652\n",
       "Random Forest          6.57991  8.57934\n",
       "Extra Trees            6.44475  8.05989\n",
       "SVM                    7.67696  9.57551\n",
       "Gradient Boosted       6.84049  8.79013\n",
       "Decisiontree             9.625  12.5268\n",
       "AdaBoost               7.35795  9.31337\n",
       "XGBRegressor           6.98383  8.87204\n",
       "Voting Regressor       7.13559   8.8141\n",
       "Baseline               9.89773  12.1828"
      ]
     },
     "execution_count": 15,
     "metadata": {},
     "output_type": "execute_result"
    }
   ],
   "source": [
    "results_withoutcluster = evaluate(X_train_clean, X_test_clean, y_train_clean, y_test_clean)\n",
    "results_withoutcluster\n",
    "#Extra trees performs best on the training set test part given the used feature selection with RMSE around 8.0\n",
    "#both ML algorithms perform pretty similiar with different feature selection/ engeneering"
   ]
  },
  {
   "cell_type": "markdown",
   "metadata": {},
   "source": [
    "With and without clustering Random Forest and Extra Trees are the best prediction models. The good performance of tree models is due to the fact that those models are less influenced by outliers. As described above, our data set has many outliers. Another advantage is that they are very good at dealing with colinearity in the features, so the information gained by splitting on one of the features will also use the prediction power of the other feature. We think that these points are crucial for why trees are the best performing predictor of popularity. In addition, we tried using the models with PCA, however, the performance decreased."
   ]
  },
  {
   "cell_type": "markdown",
   "metadata": {},
   "source": [
    "## Hyperparameter Tuning"
   ]
  },
  {
   "cell_type": "markdown",
   "metadata": {},
   "source": [
    "When submitting our best models to Kaggle we found out that Random Forest outperformed Extra trees. To increase our accuracy score we used RandomizedSearchCV to optimise our Hyperparameters."
   ]
  },
  {
   "cell_type": "code",
   "execution_count": 16,
   "metadata": {},
   "outputs": [
    {
     "name": "stdout",
     "output_type": "stream",
     "text": [
      "Best Hyperparameters: {'n_estimators': 400, 'max_features': 'log2', 'max_depth': 13}\n",
      "Best Score: 0.27153715223641506\n"
     ]
    }
   ],
   "source": [
    "RFReg = RandomForestRegressor(n_estimators = 500, max_depth=4, max_features='auto', random_state = 1, n_jobs = -1) \n",
    "\n",
    "param_grid = { \n",
    "    'n_estimators' : [x for x in range(100,1000,100)],\n",
    "    'max_features' : [\"auto\", \"sqrt\", \"log2\"],\n",
    "    'max_depth' : [x for x in range(1,20)]}\n",
    "\n",
    "CV_rfc = RandomizedSearchCV(estimator=RFReg, param_distributions = param_grid, n_jobs = -1, cv= 10, n_iter = 100, random_state=15)\n",
    "CV_rfc.fit(X_train_cluster, y_train_cluster)\n",
    "print('Best Hyperparameters:',CV_rfc.best_params_)\n",
    "print('Best Score:',CV_rfc.best_score_)"
   ]
  },
  {
   "cell_type": "code",
   "execution_count": 22,
   "metadata": {},
   "outputs": [
    {
     "name": "stdout",
     "output_type": "stream",
     "text": [
      "MAE: 6.192969583060946\n",
      "RMSE: 7.865029478838098\n"
     ]
    }
   ],
   "source": [
    "#fitting the best model based ont the Hyperparameters\n",
    "model3 = RandomForestRegressor(n_estimators= 400, max_features= 'log2', max_depth= 13)\n",
    "model3.fit(X_train_cluster, y_train_cluster)\n",
    "predictions = model3.predict(X_test_cluster)      \n",
    "print('MAE:', np.mean(abs(predictions - y_test_cluster)))\n",
    "print('RMSE:', np.sqrt(np.mean((predictions - y_test_cluster) ** 2)))  "
   ]
  },
  {
   "cell_type": "markdown",
   "metadata": {},
   "source": [
    "Using Hyperparameter tuning, we could generate RMSE scores of below eight on our training data, which would be our best model. Nevertheless, the hyperparameters are overfitting to our training data and perform not as good as the more general model on the Kaggle challenge. Therefore, our final model is a Random Forest. We increase our training data on the train-test-split for submission and let the model learn on as many instances as possible before predicting the test data for the competition."
   ]
  },
  {
   "cell_type": "code",
   "execution_count": 23,
   "metadata": {},
   "outputs": [],
   "source": [
    "#Final Model generated for Kaggle (RMSE 7.31)\n",
    "model3 = RandomForestRegressor(n_estimators= 1000)\n",
    "model3.fit(X_train_cluster, y_train_cluster)\n",
    "y_predict = model3.predict(X_scaled_cluster_test)\n",
    "kaggle = pd.DataFrame()\n",
    "kaggle['Id'] = test_start['Id']\n",
    "kaggle['pop'] = y_predict\n",
    "kaggle.to_csv('Rf_Regress_1000_Hyper.csv', index= False)"
   ]
  },
  {
   "cell_type": "markdown",
   "metadata": {},
   "source": [
    "# Classification"
   ]
  },
  {
   "cell_type": "code",
   "execution_count": 24,
   "metadata": {},
   "outputs": [],
   "source": [
    "#preparing the test data\n",
    "pop_score_test = pd.read_csv(\"CS98XClassificationTest.csv\")\n",
    "test_classification = test_start.copy()\n",
    "test_classification = test_classification.drop(test_classification.index[66])\n",
    "test_classification.reset_index(drop=True, inplace=True)\n",
    "test_classification['pop'] = pop_score_test['pop']\n",
    "#preparing the train data\n",
    "train_class = train.copy()\n",
    "train_class.dropna(subset=['top genre'], inplace=True)\n",
    "train_classification = train_start.copy()\n",
    "train_classification['top genre'] = train_class['top genre']\n",
    "\n",
    "#counts = train_classification['top genre'].value_counts()\n",
    "#train_classification = train_classification[~train_classification['top genre'].isin(counts[counts < 10].index)]"
   ]
  },
  {
   "cell_type": "markdown",
   "metadata": {},
   "source": [
    "### Exploring Data for the Classification"
   ]
  },
  {
   "cell_type": "markdown",
   "metadata": {},
   "source": [
    "Based on the data exploration done in the first part we are using the K-means cluster. Nevertheless, any further derived information in the data exploration was not beneficial to our scores leading to a more iterative feature selection approach.\n",
    "\n",
    "Since the data is heavily imbalanced with some genres appearing more frequent, we decided to remove the rows of genres that appear below a different thresholds and train the models with only the most common genres. Obviously, the accuracy of the models improved on the trainingset, but this was not reflected when we used our best model on Kaggle. \n",
    "\n",
    "As mentioned above, one of the key problems of our dataset is that it is imbalanced. This means that there are very few examples of some genres in order for the models to effectively learn to identify those classes. \n",
    "One possible way to solve that problem is to oversample the minority classes in the target by duplicating those examples in order to appear more frequent in the training dataset so that models can learn better.\n",
    "\n",
    "One of the most widely used approaches is Synthetic Minority Oversampling technique (SMOTE). Using this method we achived to increase the accuracy in the training data. However, these was not reflected on Kaggle, while generating a very low accuracy score. One possible reason is that this technique may increase the overlapping of classes and so it increases the noise in the data."
   ]
  },
  {
   "cell_type": "code",
   "execution_count": 25,
   "metadata": {},
   "outputs": [
    {
     "data": {
      "text/plain": [
       "adult standards       68\n",
       "album rock            66\n",
       "dance pop             61\n",
       "glam rock             16\n",
       "brill building pop    16\n",
       "                      ..\n",
       "belgian dance          1\n",
       "afropop                1\n",
       "hi-nrg                 1\n",
       "classic girl group     1\n",
       "glam punk              1\n",
       "Name: top genre, Length: 86, dtype: int64"
      ]
     },
     "execution_count": 25,
     "metadata": {},
     "output_type": "execute_result"
    }
   ],
   "source": [
    "train_classification['top genre'].value_counts()"
   ]
  },
  {
   "cell_type": "markdown",
   "metadata": {},
   "source": [
    "Based on trial error and according to the model performance we have taken out the variables year and success. Further, we have a first glance on the performance of our feature selection using Logistic regression evaluating it with the accuracy score."
   ]
  },
  {
   "cell_type": "code",
   "execution_count": 26,
   "metadata": {},
   "outputs": [
    {
     "name": "stdout",
     "output_type": "stream",
     "text": [
      "Logistic Regression: 29.55%\n"
     ]
    }
   ],
   "source": [
    "random.seed(82)\n",
    "\n",
    "y_class = train_classification['top genre'].values\n",
    "std_scaler = StandardScaler() \n",
    "X_cluster_class = train_classification.drop(['top genre','Id','year','success'], axis=1).values\n",
    "X_scaled_cluster_class = std_scaler.fit_transform(X_cluster_class)\n",
    "X_train_cluster_class, X_test_cluster_class, y_train_cluster_class, y_test_cluster_class = train_test_split(X_cluster_class, y_class, test_size=0.2, random_state=54)\n",
    "#scaled\n",
    "X_train_cluster_class_scaled, X_test_cluster_class_scaled, y_train_cluster_class_scaled, y_test_cluster_class_scaled = train_test_split(X_scaled_cluster_class, y_class, test_size=0.2, random_state=52)\n",
    "\n",
    "X_clean_class = train_classification.drop(['top genre','Id','year','success','labels_cluster0','labels_cluster1','labels_cluster2','labels_cluster3','labels_cluster4'], axis=1).values\n",
    "X_scaled_clean_class = std_scaler.fit_transform(X_clean_class)\n",
    "X_train_clean_class, X_test_clean_class, y_train_clean_class, y_test_clean_class = train_test_split(X_clean_class, y_class, test_size=0.2, random_state=66)\n",
    "#scaled\n",
    "X_train_clean_class_scaled, X_test_clean_class_scaled, y_train_clean_class_scaled, y_test_clean_class_scaled = train_test_split(X_scaled_clean_class, y_class, test_size=0.2, random_state=69)\n",
    "\n",
    "#test dataset\n",
    "X_cluster_test_class = test_classification.drop(['Id','year','success'], axis=1).values\n",
    "X_scaled_cluster_test_class = std_scaler.fit_transform(X_cluster_test_class)\n",
    "\n",
    "X_clean_test_class = test_classification.drop(['Id','year','success','labels_cluster0','labels_cluster1','labels_cluster2','labels_cluster3','labels_cluster4'], axis=1).values\n",
    "X_scaled_clean_test_class = std_scaler.fit_transform(X_clean_test_class)\n",
    "\n",
    "Logres = LogisticRegression(max_iter=1000)\n",
    "Logres.fit(X_train_cluster_class_scaled,y_train_cluster_class_scaled)\n",
    "y_predict_class = Logres.predict(X_test_cluster_class_scaled)\n",
    "accuracy1 = accuracy_score(y_test_cluster_class_scaled, y_predict_class)\n",
    "#initial train test split of linear regression only looking at the \n",
    "#yields an RMSE score of 10.36. this does not consider the actual test dataset as provided\n",
    "print(\"Logistic Regression: %.2f%%\" %(accuracy1 * 100.0))"
   ]
  },
  {
   "cell_type": "markdown",
   "metadata": {},
   "source": [
    "## Evaluate the final Classification models\n"
   ]
  },
  {
   "cell_type": "markdown",
   "metadata": {},
   "source": [
    "Again we used the evaluation function to evaluate several ML models by training on the splitted training data. The challenge is a multi-class classification project (predicting more than one class) rather than training a binary classifier. Accordingly, we have used the One Vs Rest method to train multiple classifiers. We implemented that technique for Logistic regression, Support Vector Machine and Tree models. We have also used the technique of building an ensemble learning classifier in order to aggregate the results of many different models. Additional to that, Random Forests are by their own a powerful and popular ensemble method. Further, we have utilized hard voting and soft voting techniques in order to realise which one performs the best in terms of the accuracy score. Moreover, we employed another ensemble method called bagging as a way of achieving training predictors on different random subsets of the training data."
   ]
  },
  {
   "cell_type": "code",
   "execution_count": 27,
   "metadata": {},
   "outputs": [],
   "source": [
    "def evaluate1(X_train_cluster, X_test_cluster, y_train_cluster, y_test_cluster):\n",
    "    # Names of models\n",
    "    model_name_list_class = ['Logistic Regression', 'SVM rbf',\n",
    "                      'SVM poly', 'Decision Tree', 'SVM',\n",
    "                       'Bagging Classifier','Random Forest','Voting Classifier']\n",
    "    # Instantiate the models\n",
    "    model12 = OneVsRestClassifier(LogisticRegression())\n",
    "    model13 = OneVsRestClassifier(SVC(kernel=\"rbf\", degree=2, coef0=1, C=5))\n",
    "    model14 = OneVsRestClassifier(SVC(kernel=\"poly\", degree=2, coef0=1, C=5))\n",
    "    model15 = DecisionTreeClassifier()\n",
    "    model16 = SVC(gamma= \"auto\", probability= True, random_state= 42)\n",
    "    model17 = BaggingClassifier(RandomForestClassifier())\n",
    "    model18 = RandomForestClassifier(n_estimators= 1000)\n",
    "    model19 = VotingClassifier([('LogR', model12), ('SVC', model16), ('Random Forest' ,model18)])\n",
    "    # Dataframe for results\n",
    "    results1 = pd.DataFrame(columns=['accuracy'], index = model_name_list_class)   \n",
    "    # Train and predict with each model\n",
    "    for i, model in enumerate([model12, model13, model14, model15, model16, model17, model18, model19]):\n",
    "        model.fit(X_train_cluster, y_train_cluster)\n",
    "        predictions1 = model.predict(X_test_cluster)      \n",
    "        accuracy = accuracy_score(y_test_cluster, predictions1)\n",
    "        # Insert results into the dataframe\n",
    "        model_name = model_name_list_class[i]\n",
    "        results1.loc[model_name, :] = [accuracy]\n",
    "    \n",
    "    return results1"
   ]
  },
  {
   "cell_type": "code",
   "execution_count": 28,
   "metadata": {},
   "outputs": [
    {
     "data": {
      "text/html": [
       "<div>\n",
       "<style scoped>\n",
       "    .dataframe tbody tr th:only-of-type {\n",
       "        vertical-align: middle;\n",
       "    }\n",
       "\n",
       "    .dataframe tbody tr th {\n",
       "        vertical-align: top;\n",
       "    }\n",
       "\n",
       "    .dataframe thead th {\n",
       "        text-align: right;\n",
       "    }\n",
       "</style>\n",
       "<table border=\"1\" class=\"dataframe\">\n",
       "  <thead>\n",
       "    <tr style=\"text-align: right;\">\n",
       "      <th></th>\n",
       "      <th>accuracy</th>\n",
       "    </tr>\n",
       "  </thead>\n",
       "  <tbody>\n",
       "    <tr>\n",
       "      <th>Logistic Regression</th>\n",
       "      <td>0.295455</td>\n",
       "    </tr>\n",
       "    <tr>\n",
       "      <th>SVM rbf</th>\n",
       "      <td>0.25</td>\n",
       "    </tr>\n",
       "    <tr>\n",
       "      <th>SVM poly</th>\n",
       "      <td>0.25</td>\n",
       "    </tr>\n",
       "    <tr>\n",
       "      <th>Decision Tree</th>\n",
       "      <td>0.159091</td>\n",
       "    </tr>\n",
       "    <tr>\n",
       "      <th>SVM</th>\n",
       "      <td>0.284091</td>\n",
       "    </tr>\n",
       "    <tr>\n",
       "      <th>Bagging Classifier</th>\n",
       "      <td>0.295455</td>\n",
       "    </tr>\n",
       "    <tr>\n",
       "      <th>Random Forest</th>\n",
       "      <td>0.295455</td>\n",
       "    </tr>\n",
       "    <tr>\n",
       "      <th>Voting Classifier</th>\n",
       "      <td>0.284091</td>\n",
       "    </tr>\n",
       "  </tbody>\n",
       "</table>\n",
       "</div>"
      ],
      "text/plain": [
       "                     accuracy\n",
       "Logistic Regression  0.295455\n",
       "SVM rbf                  0.25\n",
       "SVM poly                 0.25\n",
       "Decision Tree        0.159091\n",
       "SVM                  0.284091\n",
       "Bagging Classifier   0.295455\n",
       "Random Forest        0.295455\n",
       "Voting Classifier    0.284091"
      ]
     },
     "execution_count": 28,
     "metadata": {},
     "output_type": "execute_result"
    }
   ],
   "source": [
    "results_withcluster_class = evaluate1(X_train_cluster_class_scaled, X_test_cluster_class_scaled, y_train_cluster_class_scaled, y_test_cluster_class_scaled)\n",
    "results_withcluster_class\n",
    "#Random Forest performs best on the training set test part given the used feature selection with accuracy 0.306818\n",
    "#Random Forest will be carried out into further analysis by turning the Hyperparameters.  \n",
    "\n",
    "# Support Vector Machine and Bagging with random forests were the best performing models"
   ]
  },
  {
   "cell_type": "code",
   "execution_count": 29,
   "metadata": {},
   "outputs": [
    {
     "data": {
      "text/html": [
       "<div>\n",
       "<style scoped>\n",
       "    .dataframe tbody tr th:only-of-type {\n",
       "        vertical-align: middle;\n",
       "    }\n",
       "\n",
       "    .dataframe tbody tr th {\n",
       "        vertical-align: top;\n",
       "    }\n",
       "\n",
       "    .dataframe thead th {\n",
       "        text-align: right;\n",
       "    }\n",
       "</style>\n",
       "<table border=\"1\" class=\"dataframe\">\n",
       "  <thead>\n",
       "    <tr style=\"text-align: right;\">\n",
       "      <th></th>\n",
       "      <th>accuracy</th>\n",
       "    </tr>\n",
       "  </thead>\n",
       "  <tbody>\n",
       "    <tr>\n",
       "      <th>Logistic Regression</th>\n",
       "      <td>0.284091</td>\n",
       "    </tr>\n",
       "    <tr>\n",
       "      <th>SVM rbf</th>\n",
       "      <td>0.227273</td>\n",
       "    </tr>\n",
       "    <tr>\n",
       "      <th>SVM poly</th>\n",
       "      <td>0.238636</td>\n",
       "    </tr>\n",
       "    <tr>\n",
       "      <th>Decision Tree</th>\n",
       "      <td>0.113636</td>\n",
       "    </tr>\n",
       "    <tr>\n",
       "      <th>SVM</th>\n",
       "      <td>0.306818</td>\n",
       "    </tr>\n",
       "    <tr>\n",
       "      <th>Bagging Classifier</th>\n",
       "      <td>0.318182</td>\n",
       "    </tr>\n",
       "    <tr>\n",
       "      <th>Random Forest</th>\n",
       "      <td>0.329545</td>\n",
       "    </tr>\n",
       "    <tr>\n",
       "      <th>Voting Classifier</th>\n",
       "      <td>0.284091</td>\n",
       "    </tr>\n",
       "  </tbody>\n",
       "</table>\n",
       "</div>"
      ],
      "text/plain": [
       "                     accuracy\n",
       "Logistic Regression  0.284091\n",
       "SVM rbf              0.227273\n",
       "SVM poly             0.238636\n",
       "Decision Tree        0.113636\n",
       "SVM                  0.306818\n",
       "Bagging Classifier   0.318182\n",
       "Random Forest        0.329545\n",
       "Voting Classifier    0.284091"
      ]
     },
     "execution_count": 29,
     "metadata": {},
     "output_type": "execute_result"
    }
   ],
   "source": [
    "results_withoutcluster_class = evaluate1(X_train_clean_class_scaled, X_test_clean_class_scaled, y_train_clean_class_scaled, y_test_clean_class_scaled)\n",
    "results_withoutcluster_class\n",
    "# Several models performed similar.\n",
    "# The top score was voting classifier 0.261364\n",
    "\n",
    "#Random Forest performs best on the training set test part given the used feature selection with accuracy 0.4\n",
    "#Random Forest will be carried out into further analysis by turning the Hyperparameters.  "
   ]
  },
  {
   "cell_type": "markdown",
   "metadata": {},
   "source": [
    "With and without clustering Random Forest and Ensamble models based on it are the best prediction models. The good performance of tree models is due to the fact that those models are less influenced by outliers. As described above, our data set has many outliers. Another advantage is that they are very good at dealing with colinearity in the features, so the information gained by splitting on one of the features will also use the prediction power of the other feature. We think that these points are crucial for why trees are the best performing predictor of Genres.\n",
    "Moreover, we have used XGBoost and PCA on the models, however, the performance decreased, therfore not indcluded in the notebook.   "
   ]
  },
  {
   "cell_type": "markdown",
   "metadata": {},
   "source": [
    "## Hyperparameter Tuning"
   ]
  },
  {
   "cell_type": "markdown",
   "metadata": {},
   "source": [
    "When submitting our best models to Kaggle we found out that Random Forest outperformed all the other models using unsacled data. To increase our accuracy score we used RandomizedSearchCV to optimise our Hyperparameters."
   ]
  },
  {
   "cell_type": "code",
   "execution_count": 30,
   "metadata": {},
   "outputs": [
    {
     "name": "stderr",
     "output_type": "stream",
     "text": [
      "C:\\Users\\jom20\\anaconda3\\lib\\site-packages\\sklearn\\model_selection\\_split.py:670: UserWarning: The least populated class in y has only 1 members, which is less than n_splits=10.\n",
      "  warnings.warn((\"The least populated class in y has only %d\"\n"
     ]
    },
    {
     "name": "stdout",
     "output_type": "stream",
     "text": [
      "Best Hyperparameters: {'n_estimators': 500, 'max_features': 'sqrt', 'max_depth': 5}\n",
      "Best Score: 0.2857142857142857\n"
     ]
    }
   ],
   "source": [
    "# trying different Hyperparameter Tuning on random forest model and getting the best feature for the model,\n",
    "# in order to improve the model in a later stage \n",
    "RFclass = RandomForestClassifier(n_estimators = 500, max_features='auto', max_depth=4) \n",
    "\n",
    "param_grid = { \n",
    "    'n_estimators' : [x for x in range(100,1000,100)],\n",
    "    'max_features' : [\"auto\", \"sqrt\", \"log2\"],\n",
    "    'max_depth' : [x for x in range(1,20)]}\n",
    "\n",
    "CV_rfc1 = RandomizedSearchCV(estimator=RFclass, param_distributions =param_grid, n_jobs = -1, cv= 10, n_iter = 100)\n",
    "CV_rfc1.fit(X_train_cluster_class, y_train_cluster_class)\n",
    "print('Best Hyperparameters:',CV_rfc1.best_params_)\n",
    "print('Best Score:',CV_rfc1.best_score_)"
   ]
  },
  {
   "cell_type": "code",
   "execution_count": 31,
   "metadata": {},
   "outputs": [
    {
     "name": "stdout",
     "output_type": "stream",
     "text": [
      "Accuracy Score: 0.3181818181818182\n"
     ]
    }
   ],
   "source": [
    "#generating Random Forest model based on the Hyperparameters \n",
    "model18 = RandomForestClassifier(n_estimators= 500, max_features='sqrt', max_depth=5, max_samples=100,random_state= 42, n_jobs= -1, bootstrap= True, oob_score= False)\n",
    "\n",
    "model18.fit(X_train_cluster_class, y_train_cluster_class)\n",
    "predictions1 = model18.predict(X_test_cluster_class)      \n",
    "print('Accuracy Score:', accuracy_score(y_test_cluster_class, predictions1))\n",
    "# Checking the best models on test data on Kaggle the random forest with bagging was the one that gave the best score (0.32)."
   ]
  },
  {
   "cell_type": "markdown",
   "metadata": {},
   "source": [
    "Using Hyperparameter tuning, we could not improve our accuracy score on our training data. Therefore, our final model is a Random Forest. When trying to improve the Kaggle score we found out that unscaled data performed better. Furthermore, we increase our training data on the train-test-split for submission to let the unscaled model learn on as many instances as possible before predicting the test data for the competition."
   ]
  },
  {
   "cell_type": "code",
   "execution_count": 32,
   "metadata": {},
   "outputs": [],
   "source": [
    "model18 =RandomForestClassifier(n_estimators= 500, max_samples=100,random_state= 82, n_jobs= -1, bootstrap= True, oob_score= False)\n",
    "\n",
    "model18.fit(X_train_cluster_class, y_train_cluster_class)\n",
    "predict = model18.predict(X_cluster_test_class)    \n",
    "kaggle = pd.DataFrame()\n",
    "kaggle['Id'] = test_classification['Id']\n",
    "kaggle['top genre'] = predict\n",
    "kaggle.to_csv('RandomForestClf_final.csv', index= False)\n",
    "#Final model generating 32,142 on Kaggle"
   ]
  },
  {
   "cell_type": "markdown",
   "metadata": {},
   "source": []
  }
 ],
 "metadata": {
  "kernelspec": {
   "display_name": "Python 3",
   "language": "python",
   "name": "python3"
  },
  "language_info": {
   "codemirror_mode": {
    "name": "ipython",
    "version": 3
   },
   "file_extension": ".py",
   "mimetype": "text/x-python",
   "name": "python",
   "nbconvert_exporter": "python",
   "pygments_lexer": "ipython3",
   "version": "3.8.3"
  }
 },
 "nbformat": 4,
 "nbformat_minor": 4
}
